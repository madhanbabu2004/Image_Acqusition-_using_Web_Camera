{
  "cells": [
    {
      "cell_type": "code",
      "execution_count": null,
      "metadata": {
        "id": "hYUzMUQkTAAr"
      },
      "outputs": [],
      "source": [
        "import cv2\n",
        "viedoCaptureObject=cv2.VideoCapture(0)\n",
        "while(True):\n",
        "    ret,frame=viedoCaptureObject.read()\n",
        "    cv2.imwrite(\"image.jpg\",frame)\n",
        "    result=False\n",
        "viedoCaptureObject.release()\n",
        "cv2.destroyAllWindows()"
      ]
    },
    {
      "cell_type": "code",
      "execution_count": null,
      "metadata": {
        "id": "wj6mW4yyTKFm"
      },
      "outputs": [],
      "source": [
        "import numpy as np\n",
        "import cv2\n",
        "cap=cv2.VideoCapture(0)\n",
        "while True:\n",
        "    ret,frame=cap.read()\n",
        "    cv2.imshow('Video Capture',frame)\n",
        "    if cv2.waitKey(1)==ord('q'):\n",
        "        break\n",
        "cap.release()\n",
        "cv2.destroyAllWindows()"
      ]
    },
    {
      "cell_type": "code",
      "execution_count": null,
      "metadata": {
        "id": "Y12_al9uTMGw"
      },
      "outputs": [],
      "source": [
        "import numpy as np\n",
        "import cv2\n",
        "cap=cv2.VideoCapture(0)\n",
        "while True:\n",
        "    ret,frame=cap.read()\n",
        "    width=int(cap.get(3))\n",
        "    height=int(cap.get(4))\n",
        "    image=np.zeros(frame.shape,np.uint8)\n",
        "    smaller_frame=cv2.resize(frame,(0,0),fx=0.5,fy=0.5)\n",
        "    image[:height//2, :width//2]=smaller_frame\n",
        "    image[height//2:, :width//2]=smaller_frame\n",
        "    image[:height//2, width//2:]=smaller_frame\n",
        "    image[height//2:, width//2:]=smaller_frame\n",
        "    cv2.imshow('Video Capture',image)\n",
        "    if cv2.waitKey(1)==ord('q'):\n",
        "        break\n",
        "cap.release()\n",
        "cv2.destroyAllWindows()"
      ]
    },
    {
      "cell_type": "code",
      "execution_count": null,
      "metadata": {
        "id": "Cb1O23bdTOVM"
      },
      "outputs": [],
      "source": [
        "import numpy as np\n",
        "import cv2\n",
        "cap=cv2.VideoCapture(0)\n",
        "while True:\n",
        "    ret,frame=cap.read()\n",
        "    width=int(cap.get(3))\n",
        "    height=int(cap.get(4))\n",
        "    image=np.zeros(frame.shape,np.uint8)\n",
        "    smaller_frame=cv2.resize(frame,(0,0),fx=0.5,fy=0.5)\n",
        "    image[:height//2, :width//2]=cv2.rotate(smaller_frame,cv2.ROTATE_180)\n",
        "    image[height//2:, :width//2]=smaller_frame\n",
        "    image[:height//2, width//2:]=cv2.rotate(smaller_frame,cv2.ROTATE_180)\n",
        "    image[height//2:, width//2:]=smaller_frame\n",
        "    cv2.imshow('Video Capture',image)\n",
        "    if cv2.waitKey(1)==ord('q'):\n",
        "        break\n",
        "cap.release()\n",
        "cv2.destroyAllWindows()"
      ]
    }
  ],
  "metadata": {
    "colab": {
      "provenance": []
    },
    "kernelspec": {
      "display_name": "Python 3",
      "name": "python3"
    },
    "language_info": {
      "name": "python"
    }
  },
  "nbformat": 4,
  "nbformat_minor": 0
}
